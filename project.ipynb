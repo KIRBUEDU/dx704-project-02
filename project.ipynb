{
  "cells": [
    {
      "cell_type": "markdown",
      "metadata": {
        "id": "7aZ_blKrRZ3H"
      },
      "source": [
        "# DX 704 Week 2 Project\n",
        "\n",
        "This week's project will analyze fresh strawberry price data for a hypothetical \"buy low, freeze, and sell high\" business.\n",
        "Strawberries show strong seasonality in their prices compared to other fruits.\n",
        "\n",
        "![](https://ers.usda.gov/sites/default/files/_laserfiche/Charts/61401/oct14_finding_plattner_fig01.png)\n",
        "\n",
        "Image source: https://www.ers.usda.gov/amber-waves/2014/october/seasonal-fresh-fruit-price-patterns-differ-across-commodities-the-case-of-strawberries-and-apples\n",
        "\n",
        "You are considering a business where you buy strawberries when the prices are very low, carefully freeze them, even more carefully defrost them, and then sell them when the prices are high.\n",
        "You will forecast strawberry price time series and then use them to tactically pick times to buy, freeze, and sell the strawberries."
      ]
    },
    {
      "cell_type": "markdown",
      "metadata": {
        "id": "g1rddBd6_teG"
      },
      "source": [
        "The full project description, a template notebook, and raw data are available on GitHub at the following link.\n",
        "\n",
        "https://github.com/bu-cds-dx704/dx704-project-02\n"
      ]
    },
    {
      "cell_type": "markdown",
      "metadata": {},
      "source": [
        "### Example Code\n",
        "\n",
        "You may find it helpful to refer to these GitHub repositories of Jupyter notebooks for example code.\n",
        "\n",
        "* https://github.com/bu-cds-omds/dx601-examples\n",
        "* https://github.com/bu-cds-omds/dx602-examples\n",
        "* https://github.com/bu-cds-omds/dx603-examples\n",
        "* https://github.com/bu-cds-omds/dx704-examples\n",
        "\n",
        "Any calculations demonstrated in code examples or videos may be found in these notebooks, and you are allowed to copy this example code in your homework answers."
      ]
    },
    {
      "cell_type": "markdown",
      "metadata": {
        "id": "B7jHqNiZBXzD"
      },
      "source": [
        "## Part 1: Backtest Strawberry Prices\n",
        "\n",
        "Read the provided \"strawberry-prices.tsv\" with data from 2020 through 2024.\n",
        "This data is based on data from the U.S. Bureau of Statistics, but transformed so the ground truth is not online.\n",
        "https://fred.stlouisfed.org/series/APU0000711415\n",
        "\n",
        "Use the data for 2020 through 2023 to predict monthly prices in 2024.\n",
        "Spend some time to make sure you are happy with your methodology and prediction accuracy, since you will reuse the methodology to forecast 2025 next.\n",
        "Save the 2024 backtest predictions as \"strawberry-backtest.tsv\" with columns month and price.\n"
      ]
    },
    {
      "cell_type": "code",
      "execution_count": 17,
      "metadata": {
        "id": "T8OLCmHbiaoK"
      },
      "outputs": [
        {
          "name": "stdout",
          "output_type": "stream",
          "text": [
            "Saved: strawberry-backtest.tsv\n"
          ]
        }
      ],
      "source": [
        "# YOUR CHANGES HERE\n",
        "\n",
        "\n",
        "\n",
        "import pandas as pd\n",
        "\n",
        "IN_PATH  = \"strawberry-prices.tsv\"\n",
        "\n",
        "\n",
        "df = pd.read_csv(IN_PATH, sep=\"\\t\")\n",
        "date_col = \"month\" if \"month\" in df.columns else df.columns[0]\n",
        "df[date_col] = pd.to_datetime(df[date_col])\n",
        "df = df.rename(columns={c:\"price\" for c in df.columns if c != date_col})\n",
        "df = df[[date_col, \"price\"]].dropna()\n",
        "df[\"year\"] = df[date_col].dt.year\n",
        "df[\"m\"]    = df[date_col].dt.month\n",
        "\n",
        "seasonal_mean = (\n",
        "    df.query(\"2020 <= year <= 2023\")\n",
        "      .groupby(\"m\")[\"price\"]\n",
        "      .mean()\n",
        ")\n",
        "\n",
        "months_2024 = pd.date_range(\"2024-01-01\", \"2024-12-01\", freq=\"MS\")\n",
        "pred = pd.DataFrame({\n",
        "    \"month\": months_2024,\n",
        "    \"m\": months_2024.month\n",
        "})\n",
        "pred[\"price\"] = pred[\"m\"].map(seasonal_mean)\n",
        "\n",
        "pred_out = pred[[\"month\",\"price\"]].copy()\n",
        "pred_out[\"month\"] = pred_out[\"month\"].dt.strftime(\"%Y-%m\")\n",
        "pred_out.to_csv(\"strawberry-backtest.tsv\", sep=\"\\t\", index=False)\n",
        "\n",
        "print(f\"Saved: {\"strawberry-backtest.tsv\"}\")\n",
        "\n"
      ]
    },
    {
      "cell_type": "markdown",
      "metadata": {
        "id": "vzTi6z-skMoz"
      },
      "source": [
        "Submit \"strawberry-backtest.tsv\" in Gradescope."
      ]
    },
    {
      "cell_type": "markdown",
      "metadata": {
        "id": "T3D1ItqDnt9c"
      },
      "source": [
        "## Part 2: Backtest Errors\n",
        "\n",
        "What are the mean and standard deviation of the residuals between your backtest predictions and the ground truth? (If your mean is not close to zero, then you may be missing a long term trend.)\n",
        "\n",
        "Write the mean and standard deviation to a file \"backtest-accuracy.tsv\" with two columns, mean and std."
      ]
    },
    {
      "cell_type": "code",
      "execution_count": 16,
      "metadata": {
        "id": "3wxh46v8tnv8"
      },
      "outputs": [
        {
          "name": "stdout",
          "output_type": "stream",
          "text": [
            "Saved residual mean/std to: backtest-accuracy.tsv\n",
            "        month  price_actual  price_pred  residual\n",
            "0  2024-01-01         5.055    4.362750  0.692250\n",
            "1  2024-02-01         4.264    4.091250  0.172750\n",
            "2  2024-03-01         3.742    3.688750  0.053250\n",
            "3  2024-04-01         3.576    3.787200 -0.211200\n",
            "4  2024-05-01         3.237    3.526250 -0.289250\n",
            "5  2024-06-01         2.977    3.275000 -0.298000\n",
            "6  2024-07-01         3.116    3.194000 -0.078000\n",
            "7  2024-08-01         3.347    3.489750 -0.142750\n",
            "8  2024-09-01         3.742    3.581750  0.160250\n",
            "9  2024-10-01         3.718    3.926000 -0.208000\n",
            "10 2024-11-01         4.420    4.398000  0.022000\n",
            "11 2024-12-01         4.857    4.788575  0.068425\n",
            "\n",
            "Mean residual: -0.0049\n",
            "Std residual:  0.2746\n"
          ]
        }
      ],
      "source": [
        "# YOUR CHANGES HERE\n",
        "\n",
        "...\n",
        "\n",
        "\n",
        "import pandas as pd\n",
        "\n",
        "PRICES_FILE   = \"strawberry-prices.tsv\"\n",
        "\n",
        "\n",
        "\n",
        "actual = pd.read_csv(PRICES_FILE, sep=\"\\t\")\n",
        "actual.columns = [c.strip().lower() for c in actual.columns]\n",
        "date_col = \"month\" if \"month\" in actual.columns else actual.columns[0]\n",
        "actual[date_col] = pd.to_datetime(actual[date_col])\n",
        "actual = actual.rename(columns={c:\"price\" for c in actual.columns if c != date_col})\n",
        "actual_2024 = actual[actual[date_col].dt.year == 2024].copy()\n",
        "\n",
        "pred = pd.read_csv(\"strawberry-backtest.tsv\", sep=\"\\t\")\n",
        "pred[\"month\"] = pd.to_datetime(pred[\"month\"])\n",
        "\n",
        "merged = pd.merge(actual_2024, pred, left_on=date_col, right_on=\"month\", how=\"inner\", suffixes=(\"_actual\", \"_pred\"))\n",
        "merged[\"residual\"] = merged[\"price_actual\"] - merged[\"price_pred\"]\n",
        "\n",
        "mean_resid = merged[\"residual\"].mean()\n",
        "std_resid  = merged[\"residual\"].std()\n",
        "\n",
        "pd.DataFrame({\"mean\":[mean_resid], \"std\":[std_resid]}).to_csv(\"backtest-accuracy.tsv\", sep=\"\\t\", index=False)\n",
        "print(f\"Saved residual mean/std to: {\"backtest-accuracy.tsv\"}\")\n",
        "print(merged[[\"month\", \"price_actual\", \"price_pred\", \"residual\"]])\n",
        "print(f\"\\nMean residual: {mean_resid:.4f}\")\n",
        "print(f\"Std residual:  {std_resid:.4f}\")"
      ]
    },
    {
      "cell_type": "markdown",
      "metadata": {
        "id": "Cq2d378QtnG9"
      },
      "source": [
        "Submit \"backtest-accuracy.tsv\" in Gradescope."
      ]
    },
    {
      "cell_type": "markdown",
      "metadata": {
        "id": "Pa4DWVrpj5mq"
      },
      "source": [
        "## Part 3: Forecast Strawberry Prices\n",
        "\n",
        "Use all the data from 2020 through 2024 to predict monthly prices in 2025 using the same methodology from part 1.\n",
        "Make a monthly forecast for each month of 2025 and save it as \"strawberry-forecast.tsv\" with columns for month and price."
      ]
    },
    {
      "cell_type": "code",
      "execution_count": 15,
      "metadata": {
        "id": "CiKoW3BrkJiS"
      },
      "outputs": [
        {
          "name": "stdout",
          "output_type": "stream",
          "text": [
            "Saved: strawberry-forecast.tsv\n"
          ]
        },
        {
          "data": {
            "text/plain": [
              "Ellipsis"
            ]
          },
          "execution_count": 15,
          "metadata": {},
          "output_type": "execute_result"
        }
      ],
      "source": [
        "# YOUR CHANGES HERE\n",
        "\n",
        "\n",
        "import pandas as pd\n",
        "\n",
        "IN_PATH  = \"strawberry-prices.tsv\"\n",
        "\n",
        "\n",
        "df = pd.read_csv(IN_PATH, sep=\"\\t\")\n",
        "date_col = \"month\" if \"month\" in df.columns else df.columns[0]\n",
        "df[date_col] = pd.to_datetime(df[date_col])\n",
        "df = df.rename(columns={c: \"price\" for c in df.columns if c != date_col})\n",
        "df = df[[date_col, \"price\"]].dropna()\n",
        "df[\"year\"] = df[date_col].dt.year\n",
        "df[\"m\"]    = df[date_col].dt.month\n",
        "\n",
        "seasonal_mean = (\n",
        "    df.query(\"2020 <= year <= 2024\")\n",
        "      .groupby(\"m\")[\"price\"]\n",
        "      .mean()\n",
        ")\n",
        "\n",
        "months_2025 = pd.date_range(\"2025-01-01\", \"2025-12-01\", freq=\"MS\")\n",
        "forecast = pd.DataFrame({\n",
        "    \"month\": months_2025,\n",
        "    \"m\": months_2025.month\n",
        "})\n",
        "forecast[\"price\"] = forecast[\"m\"].map(seasonal_mean)\n",
        "\n",
        "forecast_out = forecast[[\"month\", \"price\"]].copy()\n",
        "forecast_out[\"month\"] = forecast_out[\"month\"].dt.strftime(\"%Y-%m\")\n",
        "forecast_out.to_csv(\"strawberry-forecast.tsv\", sep=\"\\t\", index=False)\n",
        "\n",
        "print(f\"Saved: {\"strawberry-forecast.tsv\"}\")\n",
        "\n",
        "..."
      ]
    },
    {
      "cell_type": "markdown",
      "metadata": {
        "id": "32lM_MPdico0"
      },
      "source": [
        "Submit \"strawberry-forecast.tsv\" in Gradescope."
      ]
    },
    {
      "cell_type": "markdown",
      "metadata": {
        "id": "SzCWxxaLi8MH"
      },
      "source": [
        "## Part 4: Buy Low, Freeze and Sell High\n",
        "\n",
        "Using your 2025 forecast, analyze the profit picking different pairs of months to buy and sell strawberries.\n",
        "Maximize your profit assuming that it costs &dollar;0.20 per pint to freeze the strawberries, &dollar;0.10 per pint per month to store the frozen strawberries and there is a 10% price discount from selling previously frozen strawberries.\n",
        "So, if you buy a pint of strawberies for &dollar;1, freeze them, and sell them for &dollar;2 three months after buying them, then the profit is &dollar;2 * 0.9 - &dollar;1 - &dollar;0.20 - &dollar;0.10 * 3 = &dollar;0.30 per pint.\n",
        "To evaluate a given pair of months, assume that you can invest &dollar;1,000,000 to cover all costs, and that you buy as many pints of strawberries as possible.\n",
        "\n",
        "Write the results of your analysis to a file \"timings.tsv\" with columns for the buy_month, sell_month, pints_purchased, and expected_profit."
      ]
    },
    {
      "cell_type": "markdown",
      "metadata": {
        "id": "XAWzFd54nlxI"
      },
      "source": [
        "Submit \"timings.tsv\" in Gradescope."
      ]
    },
    {
      "cell_type": "code",
      "execution_count": 14,
      "metadata": {},
      "outputs": [
        {
          "name": "stdout",
          "output_type": "stream",
          "text": [
            "Saved results to: /workspaces/dx704-project-02/timings.tsv\n",
            "\n",
            "Top 5 most profitable scenarios:\n",
            "   buy_month sell_month  pints_purchased  expected_profit\n",
            "55   2025-07    2025-12           257838    114385.703292\n",
            "50   2025-06    2025-12           249041     76364.437994\n",
            "59   2025-08    2025-12           246232     64225.677488\n",
            "62   2025-09    2025-12           243084     50618.353656\n",
            "54   2025-07    2025-11           264662     48634.289120\n"
          ]
        }
      ],
      "source": [
        "# analyze_timings.py\n",
        "# Computes profits for all 2025 buy/sell month pairs and saves timings.tsv\n",
        "\n",
        "import pandas as pd\n",
        "from pathlib import Path\n",
        "\n",
        "PRICES_FILE   = Path(\"strawberry-prices.tsv\")\n",
        "FORECAST_FILE = Path(\"strawberry-forecast.tsv\")\n",
        "OUT_FILE      = Path(\"timings.tsv\")\n",
        "\n",
        "FREEZE_COST = 0.20          \n",
        "STORAGE_PER_MONTH = 0.10    \n",
        "DISCOUNT = 0.10             \n",
        "BUDGET = 1_000_000          \n",
        "# -------------------------------------------------------\n",
        "\n",
        "def load_or_build_forecast_2025():\n",
        "    \"\"\"Load strawberry-forecast.tsv or build it using the Part-1 seasonal-mean method (2020–2024).\"\"\"\n",
        "    if FORECAST_FILE.exists():\n",
        "        fc = pd.read_csv(FORECAST_FILE, sep=\"\\t\")\n",
        "        fc[\"month\"] = pd.to_datetime(fc[\"month\"])\n",
        "        return fc[[\"month\", \"price\"]]\n",
        "\n",
        "    # If forecast file doesn't exist, rebuild it\n",
        "    df = pd.read_csv(PRICES_FILE, sep=\"\\t\")\n",
        "    date_col = \"month\" if \"month\" in df.columns else df.columns[0]\n",
        "    df[date_col] = pd.to_datetime(df[date_col])\n",
        "    df = df.rename(columns={c: \"price\" for c in df.columns if c != date_col})\n",
        "    df = df[[date_col, \"price\"]].dropna()\n",
        "    df[\"year\"] = df[date_col].dt.year\n",
        "    df[\"m\"] = df[date_col].dt.month\n",
        "\n",
        "    seasonal_mean = (\n",
        "        df.query(\"2020 <= year <= 2024\")\n",
        "          .groupby(\"m\")[\"price\"]\n",
        "          .mean()\n",
        "    )\n",
        "\n",
        "    months_2025 = pd.date_range(\"2025-01-01\", \"2025-12-01\", freq=\"MS\")\n",
        "    fc = pd.DataFrame({\"month\": months_2025, \"m\": months_2025.month})\n",
        "    fc[\"price\"] = fc[\"m\"].map(seasonal_mean)\n",
        "    return fc[[\"month\", \"price\"]]\n",
        "\n",
        "def main():\n",
        "    forecast = load_or_build_forecast_2025().reset_index(drop=True)\n",
        "\n",
        "    results = []\n",
        "    for i in range(len(forecast) - 1):\n",
        "        for j in range(i + 1, len(forecast)):\n",
        "            buy_month  = forecast.loc[i, \"month\"]\n",
        "            sell_month = forecast.loc[j, \"month\"]\n",
        "            buy_price  = float(forecast.loc[i, \"price\"])\n",
        "            sell_price = float(forecast.loc[j, \"price\"])\n",
        "\n",
        "            m_gap = (sell_month.to_period(\"M\") - buy_month.to_period(\"M\")).n\n",
        "\n",
        "            revenue_per_pint = (1 - DISCOUNT) * sell_price\n",
        "            total_cost_per_pint = buy_price + FREEZE_COST + STORAGE_PER_MONTH * m_gap\n",
        "            profit_per_pint = revenue_per_pint - total_cost_per_pint\n",
        "\n",
        "            pints = int(BUDGET // total_cost_per_pint) if total_cost_per_pint > 0 else 0\n",
        "            expected_profit = profit_per_pint * pints\n",
        "\n",
        "            results.append({\n",
        "                \"buy_month\":  buy_month.strftime(\"%Y-%m\"),\n",
        "                \"sell_month\": sell_month.strftime(\"%Y-%m\"),\n",
        "                \"pints_purchased\": pints,\n",
        "                \"expected_profit\": expected_profit\n",
        "            })\n",
        "\n",
        "    df_out = pd.DataFrame(results)\n",
        "\n",
        "    out_path = OUT_FILE\n",
        "    df_out.to_csv(out_path, sep=\"\\t\", index=False)\n",
        "    print(f\"Saved results to: {out_path.resolve()}\\n\")\n",
        "\n",
        "    print(\"Top 5 most profitable scenarios:\")\n",
        "    print(df_out.sort_values(\"expected_profit\", ascending=False).head(5))\n",
        "\n",
        "if __name__ == \"__main__\":\n",
        "    main()\n"
      ]
    },
    {
      "cell_type": "markdown",
      "metadata": {
        "id": "LdrZE8qKCDUv"
      },
      "source": [
        "## Part 5: Strategy Check\n",
        "\n",
        "What is the best profit scenario according to your previous timing analysis?\n",
        "How much does that profit change if the sell price is off by one standard deviation from your backtest analysis?\n",
        "(Variation in the sell price is more dangerous because you can see the buy price before fully committing.)\n",
        "\n",
        "Write the results to a file \"check.tsv\" with columns best_profit and one_std_profit."
      ]
    },
    {
      "cell_type": "code",
      "execution_count": null,
      "metadata": {
        "id": "7HvYBo_wt8Rv"
      },
      "outputs": [
        {
          "name": "stdout",
          "output_type": "stream",
          "text": [
            "Saved: /workspaces/dx704-project-02/check.tsv\n",
            "Best profit: 114,385.70\n",
            "Profit with sell price -1σ: 50,671.49\n"
          ]
        }
      ],
      "source": [
        "# YOUR CHANGES HERE\n",
        "\n",
        "\n",
        "\n",
        "\n",
        "import pandas as pd\n",
        "from pathlib import Path\n",
        "\n",
        "\n",
        "TIMINGS_FILE   = Path(\"timings.tsv\")\n",
        "FORECAST_FILE  = Path(\"strawberry-forecast.tsv\")   \n",
        "PRICES_FILE    = Path(\"strawberry-prices.tsv\")     \n",
        "BACKTEST_FILE  = Path(\"strawberry-backtest.tsv\")   \n",
        "OUT_FILE       = Path(\"check.tsv\")\n",
        "\n",
        "FREEZE_COST = 0.20           \n",
        "STORAGE_PER_MONTH = 0.10     \n",
        "DISCOUNT = 0.10              \n",
        "\n",
        "timings = pd.read_csv(TIMINGS_FILE, sep=\"\\t\")\n",
        "best_idx = timings[\"expected_profit\"].idxmax()\n",
        "best = timings.loc[best_idx].copy()\n",
        "\n",
        "best_profit = float(best[\"expected_profit\"])\n",
        "buy_month  = str(best[\"buy_month\"])\n",
        "sell_month = str(best[\"sell_month\"])\n",
        "pints      = int(best[\"pints_purchased\"])\n",
        "\n",
        "actual = pd.read_csv(PRICES_FILE, sep=\"\\t\")\n",
        "actual.columns = [c.strip().lower() for c in actual.columns]\n",
        "date_col = \"month\" if \"month\" in actual.columns else actual.columns[0]\n",
        "actual[date_col] = pd.to_datetime(actual[date_col])\n",
        "actual = actual.rename(columns={c: \"price\" for c in actual.columns if c != date_col})\n",
        "actual_2024 = actual[actual[date_col].dt.year == 2024][[date_col, \"price\"]].copy()\n",
        "\n",
        "pred = pd.read_csv(BACKTEST_FILE, sep=\"\\t\")\n",
        "pred[\"month\"] = pd.to_datetime(pred[\"month\"])\n",
        "\n",
        "m = actual_2024.merge(pred, left_on=date_col, right_on=\"month\", how=\"inner\", suffixes=(\"_actual\", \"_pred\"))\n",
        "m[\"residual\"] = m[\"price_actual\"] - m[\"price_pred\"]\n",
        "std_resid = float(m[\"residual\"].std())\n",
        "\n",
        "fc = pd.read_csv(FORECAST_FILE, sep=\"\\t\")\n",
        "fc[\"month\"] = pd.to_datetime(fc[\"month\"])\n",
        "\n",
        "buy_price  = float(fc.loc[fc[\"month\"].dt.strftime(\"%Y-%m\") == buy_month, \"price\"].values[0])\n",
        "sell_price = float(fc.loc[fc[\"month\"].dt.strftime(\"%Y-%m\") == sell_month, \"price\"].values[0])\n",
        "\n",
        "gap = (pd.Period(sell_month, freq=\"M\") - pd.Period(buy_month, freq=\"M\")).n\n",
        "\n",
        "total_cost_per_pint = buy_price + FREEZE_COST + STORAGE_PER_MONTH * gap\n",
        "sell_price_adj = max(sell_price - std_resid, 0.0)  # don't allow negative\n",
        "revenue_per_pint_adj = (1 - DISCOUNT) * sell_price_adj\n",
        "profit_per_pint_adj = revenue_per_pint_adj - total_cost_per_pint\n",
        "\n",
        "one_std_profit = float(profit_per_pint_adj * pints)\n",
        "\n",
        "pd.DataFrame([{\"best_profit\": best_profit, \"one_std_profit\": one_std_profit}]).to_csv(\n",
        "    OUT_FILE, sep=\"\\t\", index=False\n",
        ")\n",
        "\n",
        "print(f\"Saved: {OUT_FILE.resolve()}\")\n",
        "print(f\"Best profit: {best_profit:,.2f}\")\n",
        "print(f\"Profit with sell price -1σ: {one_std_profit:,.2f}\")\n"
      ]
    },
    {
      "cell_type": "markdown",
      "metadata": {
        "id": "M--8x-ZMEKAi"
      },
      "source": [
        "Submit \"check.tsv\" in Gradescope."
      ]
    },
    {
      "cell_type": "markdown",
      "metadata": {
        "id": "usYg0VtaqrGN"
      },
      "source": [
        "## Part 6: Acknowledgments\n",
        "\n",
        "Make a file \"acknowledgments.txt\" documenting any outside sources or help on this project.\n",
        "If you discussed this assignment with anyone, please acknowledge them here.\n",
        "If you used any libraries not mentioned in this module's content, please list them with a brief explanation what you used them for.\n",
        "If you used any generative AI tools, please add links to your transcripts below, and any other information that you feel is necessary to comply with the generative AI policy.\n",
        "If no acknowledgments are appropriate, just write none in the file.\n"
      ]
    },
    {
      "cell_type": "markdown",
      "metadata": {
        "id": "dZdLWQD8qvVV"
      },
      "source": [
        "Submit \"acknowledgments.txt\" in Gradescope."
      ]
    },
    {
      "cell_type": "code",
      "execution_count": null,
      "metadata": {},
      "outputs": [
        {
          "name": "stdout",
          "output_type": "stream",
          "text": [
            "Saved acknowledgments to: /workspaces/dx704-project-02/acknowledgments.txt\n"
          ]
        }
      ],
      "source": [
        "from pathlib import Path\n",
        "\n",
        "\n",
        "ACK_FILE = Path(\"acknowledgments.txt\")\n",
        "ACK_TEXT = \"My dad helped me with this\"\n",
        "\n",
        "\n",
        "def main():\n",
        "    ACK_FILE.write_text(ACK_TEXT)\n",
        "    print(f\"Saved acknowledgments to: {ACK_FILE.resolve()}\")\n",
        "\n",
        "if __name__ == \"__main__\":\n",
        "    main()"
      ]
    },
    {
      "cell_type": "markdown",
      "metadata": {
        "id": "n7ls909LqzkL"
      },
      "source": [
        "## Part 7: Code\n",
        "\n",
        "Please submit a Jupyter notebook that can reproduce all your calculations and recreate the previously submitted files.\n",
        "You do not need to provide code for data collection if you did that by manually."
      ]
    },
    {
      "cell_type": "markdown",
      "metadata": {
        "id": "mtgsTYQIq2pB"
      },
      "source": [
        "Submit \"project.ipynb\" in Gradescope."
      ]
    }
  ],
  "metadata": {
    "colab": {
      "toc_visible": false
    },
    "kernelspec": {
      "display_name": "Python 3",
      "name": "python3"
    },
    "language_info": {
      "codemirror_mode": {
        "name": "ipython",
        "version": 3
      },
      "file_extension": ".py",
      "mimetype": "text/x-python",
      "name": "python",
      "nbconvert_exporter": "python",
      "pygments_lexer": "ipython3",
      "version": "3.12.1"
    }
  },
  "nbformat": 4,
  "nbformat_minor": 0
}
